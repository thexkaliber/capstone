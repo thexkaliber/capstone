{
 "cells": [
  {
   "cell_type": "code",
   "execution_count": null,
   "metadata": {},
   "outputs": [],
   "source": [
    "%pylab inline\n",
    "import os, sys\n",
    "\n",
    "sys.path.append(\"../..\")\n",
    "import numpy as np\n",
    "import h5py\n",
    "from tqdm import tqdm\n",
    "\n",
    "from astroclip.env import format_with_env\n",
    "from plotting import plot_similar_images, plot_similar_spectra\n",
    "\n",
    "%pylab inline\n",
    "import pyarrow\n",
    "pyarrow.PyExtensionType.set_auto_load(True)\n",
    "from tqdm import tqdm\n",
    "import networkx as nx\n",
    "from pyvis.network import Network\n",
    "from IPython.display import HTML\n",
    "import base64\n",
    "from io import BytesIO\n",
    "import matplotlib.pyplot as plt\n",
    "from sklearn.neighbors import kneighbors_graph\n",
    "from sklearn.preprocessing import normalize\n",
    "import torch\n",
    "import numpy as np\n",
    "import matplotlib.pyplot as plt\n",
    "import numpy as np\n",
    "from ipywidgets import interact\n",
    "from IPython.display import display\n",
    "\n",
    "ASTROCLIP_ROOT = format_with_env(\"{ASTROCLIP_ROOT}\")\n",
    "\n",
    "# Load the embeddings\n",
    "embedding_loc = \"/workspace/astroclip/data/astroclip_embeddings.hdf5\"\n",
    "with h5py.File(embedding_loc, \"r\") as f:\n",
    "    images = f[\"image\"][:]\n",
    "    spectra = f[\"spectrum\"][:]\n",
    "    im_embeddings = f[\"image_embeddings\"][:]\n",
    "    sp_embeddings = f[\"spectrum_embeddings\"][:]\n",
    "    obj_ids = f[\"object_id\"][:]\n",
    "\n",
    "# Normalize the embeddings\n",
    "image_features_normed = im_embeddings / np.linalg.norm(\n",
    "    im_embeddings, axis=-1, keepdims=True\n",
    ")\n",
    "spectrum_features_normed = sp_embeddings / np.linalg.norm(\n",
    "    sp_embeddings, axis=-1, keepdims=True\n",
    ")"
   ]
  },
  {
   "cell_type": "code",
   "execution_count": null,
   "metadata": {},
   "outputs": [],
   "source": [
    "# Look at some randomly selected galaxies\n",
    "figure(figsize=[15, 15])\n",
    "for i in range(15):\n",
    "    for j in range(15):\n",
    "        subplot(15, 15, i * 15 + j + 1)\n",
    "        imshow(images[i * 15 + j + 1000].T)\n",
    "        title(i * 15 + j + 1000)\n",
    "        axis(\"off\")\n",
    "plt.subplots_adjust(wspace=0.1, hspace=0.11)"
   ]
  },
  {
   "cell_type": "markdown",
   "metadata": {},
   "source": [
    "# Plot retrieved galaxy images"
   ]
  },
  {
   "cell_type": "code",
   "execution_count": null,
   "metadata": {},
   "outputs": [],
   "source": [
    "# Choose some galaxies to search for similar galaxies\n",
    "ind_query = [7, 354, 526, 300]\n",
    "\n",
    "# Find the indices of the galaxies in the dataset\n",
    "im_sims = []\n",
    "\n",
    "for ind in ind_query:\n",
    "    # Compute the similarity between the query galaxy and all other galaxies\n",
    "    sp_sim = spectrum_features_normed[ind] @ spectrum_features_normed.T\n",
    "    im_sim = image_features_normed[ind] @ image_features_normed.T\n",
    "    x_im_sim = image_features_normed[ind] @ spectrum_features_normed.T\n",
    "    x_sp_sim = spectrum_features_normed[ind] @ image_features_normed.T\n",
    "\n",
    "    # Find the 8 most similar galaxies (images)\n",
    "    im_sims.append(\n",
    "        {\n",
    "            \"sp_sim\": [images[i] for i in argsort(sp_sim)[::-1][:8]],\n",
    "            \"im_sim\": [images[i] for i in argsort(im_sim)[::-1][:8]],\n",
    "            \"x_im_sim\": [images[i] for i in argsort(x_im_sim)[::-1][:8]],\n",
    "            \"x_sp_sim\": [images[i] for i in argsort(x_sp_sim)[::-1][:8]],\n",
    "        }\n",
    "    )"
   ]
  },
  {
   "cell_type": "code",
   "execution_count": null,
   "metadata": {},
   "outputs": [],
   "source": [
    "# Image-image similarity\n",
    "plot_similar_images(\n",
    "    [images[i] for i in ind_query],\n",
    "    im_sims,\n",
    "    similarity_type=\"im_sim\",\n",
    "    num_retrievals=8,\n",
    "    save_dir=\"../outputs/image_retrieval/\",\n",
    ")"
   ]
  },
  {
   "cell_type": "code",
   "execution_count": null,
   "metadata": {},
   "outputs": [],
   "source": [
    "# Spectrum-spectrum similarity\n",
    "plot_similar_images(\n",
    "    [images[i] for i in ind_query],\n",
    "    im_sims,\n",
    "    similarity_type=\"sp_sim\",\n",
    "    num_retrievals=8,\n",
    "    save_dir=\"../outputs/image_retrieval/\",\n",
    ")"
   ]
  },
  {
   "cell_type": "code",
   "execution_count": null,
   "metadata": {},
   "outputs": [],
   "source": [
    "# Image-spectrum similarity\n",
    "plot_similar_images(\n",
    "    [images[i] for i in ind_query],\n",
    "    im_sims,\n",
    "    similarity_type=\"x_im_sim\",\n",
    "    num_retrievals=8,\n",
    "    save_dir=\"../outputs/image_retrieval/\",\n",
    ")"
   ]
  },
  {
   "cell_type": "code",
   "execution_count": null,
   "metadata": {},
   "outputs": [],
   "source": [
    "# Spectrum-image similarity\n",
    "plot_similar_images(\n",
    "    [images[i] for i in ind_query],\n",
    "    im_sims,\n",
    "    similarity_type=\"x_sp_sim\",\n",
    "    num_retrievals=8,\n",
    "    save_dir=\"../outputs/image_retrieval/\",\n",
    ")"
   ]
  },
  {
   "cell_type": "markdown",
   "metadata": {},
   "source": [
    "# Plot retrieved galaxy spectra"
   ]
  },
  {
   "cell_type": "code",
   "execution_count": null,
   "metadata": {},
   "outputs": [],
   "source": [
    "# Choose some galaxies to search for similar galaxies\n",
    "ind_query = [7, 77]\n",
    "\n",
    "# Find the indices of the galaxies in the dataset\n",
    "sp_sims = []\n",
    "\n",
    "for ind in ind_query:\n",
    "    # Compute the similarity between the query galaxy and all other galaxies\n",
    "    sp_sim = spectrum_features_normed[ind] @ spectrum_features_normed.T\n",
    "    im_sim = image_features_normed[ind] @ image_features_normed.T\n",
    "    x_im_sim = image_features_normed[ind] @ spectrum_features_normed.T\n",
    "    x_sp_sim = spectrum_features_normed[ind] @ image_features_normed.T\n",
    "\n",
    "    # Find the 8 most similar galaxies (images)\n",
    "    sp_sims.append(\n",
    "        {\n",
    "            \"sp_sim\": [spectra[i] for i in argsort(sp_sim)[::-1][:8]],\n",
    "            \"im_sim\": [spectra[i] for i in argsort(im_sim)[::-1][:8]],\n",
    "            \"x_im_sim\": [spectra[i] for i in argsort(x_im_sim)[::-1][:8]],\n",
    "            \"x_sp_sim\": [spectra[i] for i in argsort(x_sp_sim)[::-1][:8]],\n",
    "        }\n",
    "    )"
   ]
  },
  {
   "cell_type": "code",
   "execution_count": null,
   "metadata": {},
   "outputs": [],
   "source": [
    "# Image-image similarity\n",
    "plot_similar_spectra(\n",
    "    [spectra[i] for i in ind_query],\n",
    "    [images[i] for i in ind_query],\n",
    "    sp_sims,\n",
    "    similarity_type=\"im_sim\",\n",
    "    save_dir=\"./outputs/spectrum_retrieval/\",\n",
    ")"
   ]
  },
  {
   "cell_type": "code",
   "execution_count": null,
   "metadata": {},
   "outputs": [],
   "source": [
    "# Spectrum-spectrum similarity\n",
    "plot_similar_spectra(\n",
    "    [spectra[i] for i in ind_query],\n",
    "    [images[i] for i in ind_query],\n",
    "    sp_sims,\n",
    "    similarity_type=\"sp_sim\",\n",
    "    save_dir=\"./outputs/spectrum_retrieval/\",\n",
    ")"
   ]
  },
  {
   "cell_type": "code",
   "execution_count": null,
   "metadata": {},
   "outputs": [],
   "source": [
    "# Image-spectrum similarity\n",
    "plot_similar_spectra(\n",
    "    [spectra[i] for i in ind_query],\n",
    "    [images[i] for i in ind_query],\n",
    "    sp_sims,\n",
    "    similarity_type=\"x_im_sim\",\n",
    "    save_dir=\"./outputs/spectrum_retrieval/\",\n",
    ")"
   ]
  },
  {
   "cell_type": "code",
   "execution_count": null,
   "metadata": {},
   "outputs": [],
   "source": [
    "# Spectrum-image similarity\n",
    "plot_similar_spectra(\n",
    "    [spectra[i] for i in ind_query],\n",
    "    [images[i] for i in ind_query],\n",
    "    sp_sims,\n",
    "    similarity_type=\"x_sp_sim\",\n",
    "    save_dir=\"./outputs/spectrum_retrieval/\",\n",
    ")"
   ]
  },
  {
   "cell_type": "code",
   "execution_count": null,
   "metadata": {},
   "outputs": [],
   "source": [
    "def graph_from_embeddings(embeddings, images, k=5, symmetrize=True):\n",
    "    \"\"\"\n",
    "    Builds a k-NN graph adjacency matrix using scikit-learn (cosine distance).\n",
    "\n",
    "    Returns a sparse adjacency matrix (numpy array or CSR).\n",
    "    \"\"\"\n",
    "    # Convert to NumPy and normalize (cosine similarity = dot of L2-normalized vectors)\n",
    "    emb_np = embeddings.cpu().numpy()\n",
    "\n",
    "    # scikit-learn uses cosine *distance*, so we negate similarity in behavior\n",
    "    A = kneighbors_graph(emb_np, n_neighbors=k, metric='cosine', mode='connectivity', include_self=False)\n",
    "\n",
    "    if symmetrize:\n",
    "        A = A.maximum(A.T)  # make it symmetric (undirected)\n",
    "\n",
    "    G = nx.Graph()\n",
    "    A = A.tocoo()\n",
    "\n",
    "    for i in range(A.shape[0]):\n",
    "        G.add_node(i, image_tensor=images[i].permute(1, 2, 0).cpu().numpy() if images is not None else None)\n",
    "\n",
    "    for i, j, w in zip(A.row, A.col, A.data):\n",
    "        G.add_edge(i, j, weight=w)\n",
    "\n",
    "    return G\n",
    "\n",
    "def encode_image_base64(image_array, scale=1.):\n",
    "    fig = plt.figure(figsize=(scale, scale), dpi=100)\n",
    "    plt.axis(\"off\")\n",
    "    plt.imshow(image_array)\n",
    "    buf = BytesIO()\n",
    "    plt.savefig(buf, format='png', bbox_inches='tight', pad_inches=0)\n",
    "    plt.close(fig)\n",
    "    buf.seek(0)\n",
    "    img_base64 = base64.b64encode(buf.read()).decode('utf-8')\n",
    "    return f\"data:image/png;base64,{img_base64}\"\n",
    "\n",
    "def draw_interactive_graph_colab(graph):\n",
    "    net = Network(height='750px', width='100%', bgcolor='#000000', font_color='white', notebook=False, cdn_resources='remote')\n",
    "\n",
    "    # Encode each image as base64 and use as node icon\n",
    "    for node_id, data in graph.nodes(data=True):\n",
    "        img_url = encode_image_base64(data['image_tensor'])\n",
    "        net.add_node(\n",
    "            int(node_id),\n",
    "            shape=\"image\",\n",
    "            image=img_url,\n",
    "            title=f\"Galaxy {node_id}\",\n",
    "            size=50\n",
    "        )\n",
    "\n",
    "    for src, tgt, data in graph.edges(data=True):\n",
    "        net.add_edge(int(src), int(tgt), value=float(data['weight']) * 5,\n",
    "                     color='rgba(255, 255, 255, 0.5)')\n",
    "\n",
    "    # Generate the HTML string (without writing to file)\n",
    "    html_str = net.generate_html()\n",
    "\n",
    "    # Display directly in Colab\n",
    "    return HTML(html_str)\n"
   ]
  }
 ],
 "metadata": {
  "kernelspec": {
   "display_name": "Python 3 (ipykernel)",
   "language": "python",
   "name": "python3"
  },
  "language_info": {
   "codemirror_mode": {
    "name": "ipython",
    "version": 3
   },
   "file_extension": ".py",
   "mimetype": "text/x-python",
   "name": "python",
   "nbconvert_exporter": "python",
   "pygments_lexer": "ipython3",
   "version": "3.10.18"
  }
 },
 "nbformat": 4,
 "nbformat_minor": 4
}
